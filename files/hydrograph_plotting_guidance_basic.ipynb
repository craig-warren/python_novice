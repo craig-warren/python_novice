{
 "cells": [
  {
   "attachments": {},
   "cell_type": "markdown",
   "metadata": {},
   "source": [
    "# Plotting hydrograph data"
   ]
  },
  {
   "attachments": {},
   "cell_type": "markdown",
   "metadata": {},
   "source": [
    "### Background\n",
    "A hydrograph is a graph showing the rate of flow (discharge) versus time past a specific point in a river, channel, or conduit carrying flow. \n",
    "\n",
    "You have been given some real hydrograph data (`Hydrograph_1.csv`) from a catchment area in North America."
   ]
  },
  {
   "attachments": {},
   "cell_type": "markdown",
   "metadata": {},
   "source": [
    "### Task\n",
    "Your task is to read, process (as required) and plot the data. You should create an overplot of the entire timeseries, and (for more ambitious/advanced) sub-plots for each individual year. \n",
    "\n",
    "You may use any of the builtin Python libraries, as well as numpy, pandas, and matplotlib if required.\n",
    "\n",
    "This task is formative and will help you gain experience and build confidence in your coding in preparation for the summative coursework assessment. If you would like feedback on this task then please submit your Jupyter notebook file to the dropbox on the module Blackboard site.\n",
    "\n",
    "Some hints and guidance have been provided in the rest of this notebook that you may use to help you plan and structure how you will approach the problem."
   ]
  },
  {
   "attachments": {},
   "cell_type": "markdown",
   "metadata": {},
   "source": [
    "### Code (and hints)\n",
    "What modules do you need? Import them first."
   ]
  },
  {
   "cell_type": "code",
   "execution_count": null,
   "metadata": {},
   "outputs": [],
   "source": [
    "# Code to import required modules"
   ]
  },
  {
   "attachments": {},
   "cell_type": "markdown",
   "metadata": {},
   "source": [
    "#### Reading the file\n",
    "Think about how you will read in the file\n",
    "- What type of data does it contain? \n",
    "- How can you have a look at the first few lines of code to see? \n",
    "- Would it be better to read in the data into a Python structure, i.e. a list, or use a numpy array?\n",
    "- Do you want to do any processing to the data as you read it in?"
   ]
  },
  {
   "cell_type": "code",
   "execution_count": null,
   "metadata": {},
   "outputs": [],
   "source": [
    "# Code to read in the file"
   ]
  },
  {
   "attachments": {},
   "cell_type": "markdown",
   "metadata": {},
   "source": [
    "#### Processing/cleaning the data\n",
    "Once you have read the data from file into a variable you probably need to do some further processing to extract date/time information and flow rate. \n",
    "- Dealing with strings in Python? Have a look at the string library for lots of builtin functions that may help you cleaning/processing strings, e.g. `.strip()`, `.split()`, `.replace()`\n",
    "- Can you use the Python `datetime` library to help you extract and store the date/time in a suitable way for later plotting?"
   ]
  },
  {
   "cell_type": "code",
   "execution_count": null,
   "metadata": {},
   "outputs": [],
   "source": [
    "# Code to process/clean data"
   ]
  },
  {
   "attachments": {},
   "cell_type": "markdown",
   "metadata": {},
   "source": [
    "#### Plotting\n",
    "You should create an overall plot of the timeseries and subplots for each individual year.\n",
    "- Think about creating nicely formatted and labelled plots, i.e. axis labels, grid lines, colours, legends\n",
    "- Can you export your plots to PDF?"
   ]
  },
  {
   "cell_type": "code",
   "execution_count": null,
   "metadata": {},
   "outputs": [],
   "source": [
    "# Code to plot data"
   ]
  }
 ],
 "metadata": {
  "kernelspec": {
   "display_name": "KB6032",
   "language": "python",
   "name": "python3"
  },
  "language_info": {
   "codemirror_mode": {
    "name": "ipython",
    "version": 3
   },
   "file_extension": ".py",
   "mimetype": "text/x-python",
   "name": "python",
   "nbconvert_exporter": "python",
   "pygments_lexer": "ipython3",
   "version": "3.10.9"
  },
  "orig_nbformat": 4,
  "vscode": {
   "interpreter": {
    "hash": "f811d64cfa5ee65f3a784508c9f5f0faf6102a478b1a517a5eb1fa4522c9b690"
   }
  }
 },
 "nbformat": 4,
 "nbformat_minor": 2
}
