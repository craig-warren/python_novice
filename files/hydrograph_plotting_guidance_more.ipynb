{
 "cells": [
  {
   "attachments": {},
   "cell_type": "markdown",
   "metadata": {},
   "source": [
    "# Plotting hydrograph data"
   ]
  },
  {
   "attachments": {},
   "cell_type": "markdown",
   "metadata": {},
   "source": [
    "### Background\n",
    "A hydrograph is a graph showing the rate of flow (discharge) versus time past a specific point in a river, channel, or conduit carrying flow. \n",
    "\n",
    "You have been given some real hydrograph data (`Hydrograph_1.csv`) from a catchment area in North America."
   ]
  },
  {
   "attachments": {},
   "cell_type": "markdown",
   "metadata": {},
   "source": [
    "### Task\n",
    "Your task is to read, process (as required) and plot the data. You should create an overplot of the entire timeseries, and (for more ambitious/advanced) sub-plots for each individual year. \n",
    "\n",
    "You may use any of the builtin Python libraries, as well as numpy, pandas, and matplotlib if required.\n",
    "\n",
    "This task is formative and will help you gain experience and build confidence in your coding in preparation for the summative coursework assessment. If you would like feedback on this task then please submit your Jupyter notebook file to the dropbox on the module Blackboard site.\n",
    "\n",
    "Some hints and guidance have been provided in the rest of this notebook that you may use to help you plan and structure how you will approach the problem."
   ]
  },
  {
   "attachments": {},
   "cell_type": "markdown",
   "metadata": {},
   "source": [
    "### Code (and hints)\n",
    "What modules do you need? Import them first."
   ]
  },
  {
   "cell_type": "code",
   "execution_count": null,
   "metadata": {},
   "outputs": [],
   "source": [
    "import datetime\n",
    "import matplotlib.pyplot as plt\n",
    "%matplotlib inline"
   ]
  },
  {
   "attachments": {},
   "cell_type": "markdown",
   "metadata": {},
   "source": [
    "#### Reading the file\n",
    "Think about how you will read in the file\n",
    "- What type of data does it contain? \n",
    "- How can you have a look at the first few lines of code to see? \n",
    "- Would it be better to read in the data into a Python structure, i.e. a list, or use a numpy array?\n",
    "- Do you want to do any processing to the data as you read it in?"
   ]
  },
  {
   "cell_type": "code",
   "execution_count": null,
   "metadata": {},
   "outputs": [],
   "source": [
    "filename = 'Hydrograph_1.csv'\n",
    "file = open('./data/' + filename)\n",
    "lines = []\n",
    "for line in file:\n",
    "    line.strip()\n",
    "    lines.append(line)\n",
    "file.close()"
   ]
  },
  {
   "attachments": {},
   "cell_type": "markdown",
   "metadata": {},
   "source": [
    "#### Processing/cleaning the data\n",
    "Once you have read the data from file into a variable you probably need to do some further processing to extract date/time information and flow rate. \n",
    "- Dealing with strings in Python? Have a look at the string library for lots of builtin functions that may help you cleaning/processing strings, e.g. `.strip()`, `.split()`, `.replace()`\n",
    "- Can you use the Python `datetime` library to help you extract and store the date/time in a suitable way for later plotting?"
   ]
  },
  {
   "cell_type": "code",
   "execution_count": null,
   "metadata": {},
   "outputs": [],
   "source": [
    "dates = []\n",
    "flows = []\n",
    "\n",
    "for line in lines[2::]:\n",
    "    # Get date and time date and construct datetime object\n",
    "    comma_split = line.split(',')\n",
    "    date_str = comma_split[0].split('\\t')[1]\n",
    "    time_str = comma_split[1].split('\\t')[0].strip()\n",
    "    \n",
    "    # Code to catch 24:00 case\n",
    "    \n",
    "    date_time_obj = datetime.datetime.strptime(date_str + time_str, '%d %b %Y%H:%M')\n",
    "\n",
    "    # Get flow rate\n",
    "    flow = comma_split[1].split('\\t')[1].strip()\n",
    "    if flow:\n",
    "        flow = float(flow)\n",
    "    else:\n",
    "        flow = 0.0 \n",
    "\n",
    "    dates.append(date_time_obj)\n",
    "    flows.append(flow)"
   ]
  },
  {
   "attachments": {},
   "cell_type": "markdown",
   "metadata": {},
   "source": [
    "#### Plotting\n",
    "You should create an overall plot of the timeseries and subplots for each individual year.\n",
    "- Think about creating nicely formatted and labelled plots, i.e. axis labels, grid lines, colours, legends\n",
    "- Can you export your plots to PDF?"
   ]
  },
  {
   "cell_type": "code",
   "execution_count": null,
   "metadata": {},
   "outputs": [],
   "source": [
    "# Code to plot data"
   ]
  }
 ],
 "metadata": {
  "kernelspec": {
   "display_name": "Python 3",
   "language": "python",
   "name": "python3"
  },
  "language_info": {
   "codemirror_mode": {
    "name": "ipython",
    "version": 3
   },
   "file_extension": ".py",
   "mimetype": "text/x-python",
   "name": "python",
   "nbconvert_exporter": "python",
   "pygments_lexer": "ipython3",
   "version": "3.9.6"
  },
  "orig_nbformat": 4,
  "vscode": {
   "interpreter": {
    "hash": "31f2aee4e71d21fbe5cf8b01ff0e069b9275f58929596ceb00d14d90e3e16cd6"
   }
  }
 },
 "nbformat": 4,
 "nbformat_minor": 2
}
